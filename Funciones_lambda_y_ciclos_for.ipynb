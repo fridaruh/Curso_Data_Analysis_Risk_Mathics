{
  "nbformat": 4,
  "nbformat_minor": 0,
  "metadata": {
    "colab": {
      "name": "Funciones lambda y ciclos for.ipynb",
      "provenance": [],
      "authorship_tag": "ABX9TyNPnhB0aRssw2JG4DXLdRnK",
      "include_colab_link": true
    },
    "kernelspec": {
      "name": "python3",
      "display_name": "Python 3"
    },
    "language_info": {
      "name": "python"
    }
  },
  "cells": [
    {
      "cell_type": "markdown",
      "metadata": {
        "id": "view-in-github",
        "colab_type": "text"
      },
      "source": [
        "<a href=\"https://colab.research.google.com/github/fridaruh/Curso_Data_Analysis_Risk_Mathics/blob/master/Funciones_lambda_y_ciclos_for.ipynb\" target=\"_parent\"><img src=\"https://colab.research.google.com/assets/colab-badge.svg\" alt=\"Open In Colab\"/></a>"
      ]
    },
    {
      "cell_type": "markdown",
      "metadata": {
        "id": "vTGJ9Xc4W7UY"
      },
      "source": [
        "# Funciones definidas"
      ]
    },
    {
      "cell_type": "code",
      "metadata": {
        "id": "Es7p_fACW33N"
      },
      "source": [
        "def volumen_prisma(base, altura, fondo):\n",
        "  area = base*fondo\n",
        "  volumen = area*altura\n",
        "  print(volumen) #Solo imprime el último resultado"
      ],
      "execution_count": null,
      "outputs": []
    },
    {
      "cell_type": "code",
      "metadata": {
        "colab": {
          "base_uri": "https://localhost:8080/"
        },
        "id": "ZWebPRgyXngE",
        "outputId": "6ee552dc-664d-4845-d426-7b6da548eeb7"
      },
      "source": [
        "volumen_prisma(6,4,3)"
      ],
      "execution_count": null,
      "outputs": [
        {
          "output_type": "stream",
          "name": "stdout",
          "text": [
            "72\n"
          ]
        }
      ]
    },
    {
      "cell_type": "code",
      "metadata": {
        "id": "chu3-rhOXriU"
      },
      "source": [
        "def volumen_prisma(base, altura, fondo):\n",
        "  area = base*fondo\n",
        "  volumen = area*altura\n",
        "  return volumen #Me permite almacenar la variable con sus propiedades"
      ],
      "execution_count": null,
      "outputs": []
    },
    {
      "cell_type": "code",
      "metadata": {
        "colab": {
          "base_uri": "https://localhost:8080/"
        },
        "id": "ocEnuFNRXu2d",
        "outputId": "4cd82880-3ceb-44dd-b83f-040e3e696107"
      },
      "source": [
        "volumen_prisma(6,4,3)"
      ],
      "execution_count": null,
      "outputs": [
        {
          "output_type": "execute_result",
          "data": {
            "text/plain": [
              "72"
            ]
          },
          "metadata": {},
          "execution_count": 4
        }
      ]
    },
    {
      "cell_type": "markdown",
      "metadata": {
        "id": "tZxqz9iKYS4n"
      },
      "source": [
        "Otra función definida:"
      ]
    },
    {
      "cell_type": "code",
      "metadata": {
        "id": "Qq3N9krtXwo0"
      },
      "source": [
        "def doble(num):\n",
        "  resultado = num*2\n",
        "  return resultado"
      ],
      "execution_count": null,
      "outputs": []
    },
    {
      "cell_type": "code",
      "metadata": {
        "colab": {
          "base_uri": "https://localhost:8080/"
        },
        "id": "UsA8aaabYfU9",
        "outputId": "d69ce57b-4ce1-4037-f586-08b33778c72c"
      },
      "source": [
        "doble(2)"
      ],
      "execution_count": null,
      "outputs": [
        {
          "output_type": "execute_result",
          "data": {
            "text/plain": [
              "4"
            ]
          },
          "metadata": {},
          "execution_count": 6
        }
      ]
    },
    {
      "cell_type": "markdown",
      "metadata": {
        "id": "50I_rYcVZvtD"
      },
      "source": [
        "#Funciones lambda"
      ]
    },
    {
      "cell_type": "markdown",
      "metadata": {
        "id": "UNBKoXvyZxsk"
      },
      "source": [
        "*lambda argumentos: expresión*"
      ]
    },
    {
      "cell_type": "markdown",
      "metadata": {
        "id": "FNVX5zE0YjjT"
      },
      "source": [
        "Escribiendo la misma función con funciones lambda:"
      ]
    },
    {
      "cell_type": "code",
      "metadata": {
        "id": "hv_61X_VYheD"
      },
      "source": [
        "doblar = lambda num: num*2 #Función con un sólo argumento"
      ],
      "execution_count": null,
      "outputs": []
    },
    {
      "cell_type": "code",
      "metadata": {
        "colab": {
          "base_uri": "https://localhost:8080/"
        },
        "id": "BwpyEtkuYuRS",
        "outputId": "46126509-bfd1-40bb-d344-52a80fa2d9b2"
      },
      "source": [
        "doblar(2)"
      ],
      "execution_count": null,
      "outputs": [
        {
          "output_type": "execute_result",
          "data": {
            "text/plain": [
              "4"
            ]
          },
          "metadata": {},
          "execution_count": 8
        }
      ]
    },
    {
      "cell_type": "code",
      "metadata": {
        "id": "Bge_3Sv9YvRU"
      },
      "source": [
        "# df['doble'] = df['columna'].apply(lambda num: num*2)"
      ],
      "execution_count": null,
      "outputs": []
    },
    {
      "cell_type": "markdown",
      "metadata": {
        "id": "D4TE71ObZmzc"
      },
      "source": [
        "Función lambda con dos argumentos:"
      ]
    },
    {
      "cell_type": "code",
      "metadata": {
        "id": "czkc36T4ZpAM"
      },
      "source": [
        "suma = lambda a,b: a+b"
      ],
      "execution_count": null,
      "outputs": []
    },
    {
      "cell_type": "code",
      "metadata": {
        "colab": {
          "base_uri": "https://localhost:8080/"
        },
        "id": "FzMzmIgnZ-Gd",
        "outputId": "a694f664-8c23-43d2-958c-c12a214adc9e"
      },
      "source": [
        "suma(5,7)"
      ],
      "execution_count": null,
      "outputs": [
        {
          "output_type": "execute_result",
          "data": {
            "text/plain": [
              "12"
            ]
          },
          "metadata": {},
          "execution_count": 10
        }
      ]
    },
    {
      "cell_type": "markdown",
      "metadata": {
        "id": "CJ4M-FcNcTVG"
      },
      "source": [
        "# Funciones lambda en **DataFrame**"
      ]
    },
    {
      "cell_type": "code",
      "metadata": {
        "id": "RHSWPvk0aAl0"
      },
      "source": [
        "import pandas as pd\n",
        "import numpy as np"
      ],
      "execution_count": null,
      "outputs": []
    },
    {
      "cell_type": "markdown",
      "metadata": {
        "id": "Z8BTcrHvdJEN"
      },
      "source": [
        "Generar una tabla con valores aleatorios:"
      ]
    },
    {
      "cell_type": "code",
      "metadata": {
        "id": "zCVerd13dH7d"
      },
      "source": [
        "df = pd.DataFrame(np.random.randint(0,100, size=(4,2)), columns=list('AB'))"
      ],
      "execution_count": null,
      "outputs": []
    },
    {
      "cell_type": "code",
      "metadata": {
        "colab": {
          "base_uri": "https://localhost:8080/",
          "height": 174
        },
        "id": "Z6acl1E3dswS",
        "outputId": "cdecf4d7-d47c-494d-b23a-a0ba87658b37"
      },
      "source": [
        "df"
      ],
      "execution_count": null,
      "outputs": [
        {
          "output_type": "execute_result",
          "data": {
            "text/html": [
              "<div>\n",
              "<style scoped>\n",
              "    .dataframe tbody tr th:only-of-type {\n",
              "        vertical-align: middle;\n",
              "    }\n",
              "\n",
              "    .dataframe tbody tr th {\n",
              "        vertical-align: top;\n",
              "    }\n",
              "\n",
              "    .dataframe thead th {\n",
              "        text-align: right;\n",
              "    }\n",
              "</style>\n",
              "<table border=\"1\" class=\"dataframe\">\n",
              "  <thead>\n",
              "    <tr style=\"text-align: right;\">\n",
              "      <th></th>\n",
              "      <th>A</th>\n",
              "      <th>B</th>\n",
              "    </tr>\n",
              "  </thead>\n",
              "  <tbody>\n",
              "    <tr>\n",
              "      <th>0</th>\n",
              "      <td>57</td>\n",
              "      <td>79</td>\n",
              "    </tr>\n",
              "    <tr>\n",
              "      <th>1</th>\n",
              "      <td>68</td>\n",
              "      <td>76</td>\n",
              "    </tr>\n",
              "    <tr>\n",
              "      <th>2</th>\n",
              "      <td>31</td>\n",
              "      <td>44</td>\n",
              "    </tr>\n",
              "    <tr>\n",
              "      <th>3</th>\n",
              "      <td>68</td>\n",
              "      <td>55</td>\n",
              "    </tr>\n",
              "  </tbody>\n",
              "</table>\n",
              "</div>"
            ],
            "text/plain": [
              "    A   B\n",
              "0  57  79\n",
              "1  68  76\n",
              "2  31  44\n",
              "3  68  55"
            ]
          },
          "metadata": {},
          "execution_count": 13
        }
      ]
    },
    {
      "cell_type": "markdown",
      "metadata": {
        "id": "oGhHBsLMd4El"
      },
      "source": [
        "Generar una función lambda que suma 1 a cada número de **TODO** el dataset"
      ]
    },
    {
      "cell_type": "code",
      "metadata": {
        "colab": {
          "base_uri": "https://localhost:8080/",
          "height": 174
        },
        "id": "GwiLQDNDdtxb",
        "outputId": "71befae9-f8dd-4902-a867-12bd06a69b90"
      },
      "source": [
        "df.apply(lambda x: x+1)"
      ],
      "execution_count": null,
      "outputs": [
        {
          "output_type": "execute_result",
          "data": {
            "text/html": [
              "<div>\n",
              "<style scoped>\n",
              "    .dataframe tbody tr th:only-of-type {\n",
              "        vertical-align: middle;\n",
              "    }\n",
              "\n",
              "    .dataframe tbody tr th {\n",
              "        vertical-align: top;\n",
              "    }\n",
              "\n",
              "    .dataframe thead th {\n",
              "        text-align: right;\n",
              "    }\n",
              "</style>\n",
              "<table border=\"1\" class=\"dataframe\">\n",
              "  <thead>\n",
              "    <tr style=\"text-align: right;\">\n",
              "      <th></th>\n",
              "      <th>A</th>\n",
              "      <th>B</th>\n",
              "    </tr>\n",
              "  </thead>\n",
              "  <tbody>\n",
              "    <tr>\n",
              "      <th>0</th>\n",
              "      <td>58</td>\n",
              "      <td>80</td>\n",
              "    </tr>\n",
              "    <tr>\n",
              "      <th>1</th>\n",
              "      <td>69</td>\n",
              "      <td>77</td>\n",
              "    </tr>\n",
              "    <tr>\n",
              "      <th>2</th>\n",
              "      <td>32</td>\n",
              "      <td>45</td>\n",
              "    </tr>\n",
              "    <tr>\n",
              "      <th>3</th>\n",
              "      <td>69</td>\n",
              "      <td>56</td>\n",
              "    </tr>\n",
              "  </tbody>\n",
              "</table>\n",
              "</div>"
            ],
            "text/plain": [
              "    A   B\n",
              "0  58  80\n",
              "1  69  77\n",
              "2  32  45\n",
              "3  69  56"
            ]
          },
          "metadata": {},
          "execution_count": 14
        }
      ]
    },
    {
      "cell_type": "markdown",
      "metadata": {
        "id": "CtN8v_xMiFX8"
      },
      "source": [
        "Generar una función lambda que eleva al cuadrado(o cualquier potencia) TODO el dataset"
      ]
    },
    {
      "cell_type": "code",
      "metadata": {
        "colab": {
          "base_uri": "https://localhost:8080/",
          "height": 174
        },
        "id": "dhPibDXIeGfz",
        "outputId": "a3441ea6-807e-44a0-e60a-9f4a2fff0716"
      },
      "source": [
        "df.apply(lambda x: x**2)"
      ],
      "execution_count": null,
      "outputs": [
        {
          "output_type": "execute_result",
          "data": {
            "text/html": [
              "<div>\n",
              "<style scoped>\n",
              "    .dataframe tbody tr th:only-of-type {\n",
              "        vertical-align: middle;\n",
              "    }\n",
              "\n",
              "    .dataframe tbody tr th {\n",
              "        vertical-align: top;\n",
              "    }\n",
              "\n",
              "    .dataframe thead th {\n",
              "        text-align: right;\n",
              "    }\n",
              "</style>\n",
              "<table border=\"1\" class=\"dataframe\">\n",
              "  <thead>\n",
              "    <tr style=\"text-align: right;\">\n",
              "      <th></th>\n",
              "      <th>A</th>\n",
              "      <th>B</th>\n",
              "    </tr>\n",
              "  </thead>\n",
              "  <tbody>\n",
              "    <tr>\n",
              "      <th>0</th>\n",
              "      <td>3249</td>\n",
              "      <td>6241</td>\n",
              "    </tr>\n",
              "    <tr>\n",
              "      <th>1</th>\n",
              "      <td>4624</td>\n",
              "      <td>5776</td>\n",
              "    </tr>\n",
              "    <tr>\n",
              "      <th>2</th>\n",
              "      <td>961</td>\n",
              "      <td>1936</td>\n",
              "    </tr>\n",
              "    <tr>\n",
              "      <th>3</th>\n",
              "      <td>4624</td>\n",
              "      <td>3025</td>\n",
              "    </tr>\n",
              "  </tbody>\n",
              "</table>\n",
              "</div>"
            ],
            "text/plain": [
              "      A     B\n",
              "0  3249  6241\n",
              "1  4624  5776\n",
              "2   961  1936\n",
              "3  4624  3025"
            ]
          },
          "metadata": {},
          "execution_count": 15
        }
      ]
    },
    {
      "cell_type": "code",
      "metadata": {
        "colab": {
          "base_uri": "https://localhost:8080/",
          "height": 174
        },
        "id": "Xbzwlddlisao",
        "outputId": "7e9938cb-7fdb-46b7-b902-0aa054d7405c"
      },
      "source": [
        "df"
      ],
      "execution_count": null,
      "outputs": [
        {
          "output_type": "execute_result",
          "data": {
            "text/html": [
              "<div>\n",
              "<style scoped>\n",
              "    .dataframe tbody tr th:only-of-type {\n",
              "        vertical-align: middle;\n",
              "    }\n",
              "\n",
              "    .dataframe tbody tr th {\n",
              "        vertical-align: top;\n",
              "    }\n",
              "\n",
              "    .dataframe thead th {\n",
              "        text-align: right;\n",
              "    }\n",
              "</style>\n",
              "<table border=\"1\" class=\"dataframe\">\n",
              "  <thead>\n",
              "    <tr style=\"text-align: right;\">\n",
              "      <th></th>\n",
              "      <th>A</th>\n",
              "      <th>B</th>\n",
              "    </tr>\n",
              "  </thead>\n",
              "  <tbody>\n",
              "    <tr>\n",
              "      <th>0</th>\n",
              "      <td>57</td>\n",
              "      <td>79</td>\n",
              "    </tr>\n",
              "    <tr>\n",
              "      <th>1</th>\n",
              "      <td>68</td>\n",
              "      <td>76</td>\n",
              "    </tr>\n",
              "    <tr>\n",
              "      <th>2</th>\n",
              "      <td>31</td>\n",
              "      <td>44</td>\n",
              "    </tr>\n",
              "    <tr>\n",
              "      <th>3</th>\n",
              "      <td>68</td>\n",
              "      <td>55</td>\n",
              "    </tr>\n",
              "  </tbody>\n",
              "</table>\n",
              "</div>"
            ],
            "text/plain": [
              "    A   B\n",
              "0  57  79\n",
              "1  68  76\n",
              "2  31  44\n",
              "3  68  55"
            ]
          },
          "metadata": {},
          "execution_count": 17
        }
      ]
    },
    {
      "cell_type": "markdown",
      "metadata": {
        "id": "bXG8rmmEjAG3"
      },
      "source": [
        "Generamos una función lambda que suma 10 unidades a cada número de la columna A"
      ]
    },
    {
      "cell_type": "code",
      "metadata": {
        "id": "PJcpUqrXivwp"
      },
      "source": [
        "df['A'] = df['A'].apply(lambda x: x+10)"
      ],
      "execution_count": null,
      "outputs": []
    },
    {
      "cell_type": "code",
      "metadata": {
        "colab": {
          "base_uri": "https://localhost:8080/",
          "height": 174
        },
        "id": "XikboMqJjJM6",
        "outputId": "0c0accca-6f1d-432a-e6d5-1e733dea85af"
      },
      "source": [
        "df"
      ],
      "execution_count": null,
      "outputs": [
        {
          "output_type": "execute_result",
          "data": {
            "text/html": [
              "<div>\n",
              "<style scoped>\n",
              "    .dataframe tbody tr th:only-of-type {\n",
              "        vertical-align: middle;\n",
              "    }\n",
              "\n",
              "    .dataframe tbody tr th {\n",
              "        vertical-align: top;\n",
              "    }\n",
              "\n",
              "    .dataframe thead th {\n",
              "        text-align: right;\n",
              "    }\n",
              "</style>\n",
              "<table border=\"1\" class=\"dataframe\">\n",
              "  <thead>\n",
              "    <tr style=\"text-align: right;\">\n",
              "      <th></th>\n",
              "      <th>A</th>\n",
              "      <th>B</th>\n",
              "    </tr>\n",
              "  </thead>\n",
              "  <tbody>\n",
              "    <tr>\n",
              "      <th>0</th>\n",
              "      <td>67</td>\n",
              "      <td>79</td>\n",
              "    </tr>\n",
              "    <tr>\n",
              "      <th>1</th>\n",
              "      <td>78</td>\n",
              "      <td>76</td>\n",
              "    </tr>\n",
              "    <tr>\n",
              "      <th>2</th>\n",
              "      <td>41</td>\n",
              "      <td>44</td>\n",
              "    </tr>\n",
              "    <tr>\n",
              "      <th>3</th>\n",
              "      <td>78</td>\n",
              "      <td>55</td>\n",
              "    </tr>\n",
              "  </tbody>\n",
              "</table>\n",
              "</div>"
            ],
            "text/plain": [
              "    A   B\n",
              "0  67  79\n",
              "1  78  76\n",
              "2  41  44\n",
              "3  78  55"
            ]
          },
          "metadata": {},
          "execution_count": 20
        }
      ]
    },
    {
      "cell_type": "code",
      "metadata": {
        "id": "JuTsyrNrjVJq"
      },
      "source": [
        "df['A'] = df['A'].apply(lambda x: x%2==0)\n",
        "df['B'] = df['B'].apply(lambda x: str(x/100)+'%')"
      ],
      "execution_count": null,
      "outputs": []
    },
    {
      "cell_type": "code",
      "metadata": {
        "colab": {
          "base_uri": "https://localhost:8080/",
          "height": 174
        },
        "id": "gSbAIlaCkLi6",
        "outputId": "21baf920-9322-4da7-c6f4-bc98c3b0c090"
      },
      "source": [
        "df"
      ],
      "execution_count": null,
      "outputs": [
        {
          "output_type": "execute_result",
          "data": {
            "text/html": [
              "<div>\n",
              "<style scoped>\n",
              "    .dataframe tbody tr th:only-of-type {\n",
              "        vertical-align: middle;\n",
              "    }\n",
              "\n",
              "    .dataframe tbody tr th {\n",
              "        vertical-align: top;\n",
              "    }\n",
              "\n",
              "    .dataframe thead th {\n",
              "        text-align: right;\n",
              "    }\n",
              "</style>\n",
              "<table border=\"1\" class=\"dataframe\">\n",
              "  <thead>\n",
              "    <tr style=\"text-align: right;\">\n",
              "      <th></th>\n",
              "      <th>A</th>\n",
              "      <th>B</th>\n",
              "    </tr>\n",
              "  </thead>\n",
              "  <tbody>\n",
              "    <tr>\n",
              "      <th>0</th>\n",
              "      <td>True</td>\n",
              "      <td>0.79%</td>\n",
              "    </tr>\n",
              "    <tr>\n",
              "      <th>1</th>\n",
              "      <td>False</td>\n",
              "      <td>0.76%</td>\n",
              "    </tr>\n",
              "    <tr>\n",
              "      <th>2</th>\n",
              "      <td>True</td>\n",
              "      <td>0.44%</td>\n",
              "    </tr>\n",
              "    <tr>\n",
              "      <th>3</th>\n",
              "      <td>False</td>\n",
              "      <td>0.55%</td>\n",
              "    </tr>\n",
              "  </tbody>\n",
              "</table>\n",
              "</div>"
            ],
            "text/plain": [
              "       A      B\n",
              "0   True  0.79%\n",
              "1  False  0.76%\n",
              "2   True  0.44%\n",
              "3  False  0.55%"
            ]
          },
          "metadata": {},
          "execution_count": 23
        }
      ]
    },
    {
      "cell_type": "markdown",
      "metadata": {
        "id": "OuCEaPNxmS50"
      },
      "source": [
        "# Funciones map"
      ]
    },
    {
      "cell_type": "markdown",
      "metadata": {
        "id": "L6n2ihGNmWgE"
      },
      "source": [
        "Las funciones map esperan una función y un **iterable** (lista, diccionario,tupla,etc.) y ejecuta la función para cada elemento de la secuencia."
      ]
    },
    {
      "cell_type": "code",
      "metadata": {
        "id": "2-F7uSM-kOSK"
      },
      "source": [
        "lista = [1,2,3,4]"
      ],
      "execution_count": null,
      "outputs": []
    },
    {
      "cell_type": "code",
      "metadata": {
        "id": "8GKm2kZsmsYu"
      },
      "source": [
        "def multiply2(x):\n",
        "  y = x*2\n",
        "  return y\n",
        "  #return x*2"
      ],
      "execution_count": null,
      "outputs": []
    },
    {
      "cell_type": "code",
      "metadata": {
        "colab": {
          "base_uri": "https://localhost:8080/"
        },
        "id": "ubgqJ2Bom15B",
        "outputId": "a137d5ca-c041-4dcd-d6e5-62a8d280c52e"
      },
      "source": [
        "map(multiply2,lista)"
      ],
      "execution_count": null,
      "outputs": [
        {
          "output_type": "execute_result",
          "data": {
            "text/plain": [
              "<map at 0x7fafc3c9a6d0>"
            ]
          },
          "metadata": {},
          "execution_count": 27
        }
      ]
    },
    {
      "cell_type": "markdown",
      "metadata": {
        "id": "xlyL57kOnBVI"
      },
      "source": [
        "Para poder visualizar los resultados necesitamos convertirlo a lista!!!!"
      ]
    },
    {
      "cell_type": "code",
      "metadata": {
        "colab": {
          "base_uri": "https://localhost:8080/"
        },
        "id": "czkmXdvvm-zi",
        "outputId": "4770551c-8b58-4a01-d3c9-bd0a38e1cfc2"
      },
      "source": [
        "list(map(multiply2,lista))"
      ],
      "execution_count": null,
      "outputs": [
        {
          "output_type": "execute_result",
          "data": {
            "text/plain": [
              "[2, 4, 6, 8]"
            ]
          },
          "metadata": {},
          "execution_count": 28
        }
      ]
    },
    {
      "cell_type": "code",
      "metadata": {
        "colab": {
          "base_uri": "https://localhost:8080/"
        },
        "id": "JHgiUf9AnKYo",
        "outputId": "aa26b779-a6be-4e47-8e96-1b9edd036c78"
      },
      "source": [
        "multiply2(lista)"
      ],
      "execution_count": null,
      "outputs": [
        {
          "output_type": "execute_result",
          "data": {
            "text/plain": [
              "[1, 2, 3, 4, 1, 2, 3, 4]"
            ]
          },
          "metadata": {},
          "execution_count": 29
        }
      ]
    },
    {
      "cell_type": "markdown",
      "metadata": {
        "id": "SkBJE6h5nkV7"
      },
      "source": [
        "**Con funciones lambda**"
      ]
    },
    {
      "cell_type": "code",
      "metadata": {
        "id": "N0QkT8jtnM-g"
      },
      "source": [
        "lista_a = [1,2,3]\n",
        "lista_b = [10,20,30]"
      ],
      "execution_count": null,
      "outputs": []
    },
    {
      "cell_type": "code",
      "metadata": {
        "colab": {
          "base_uri": "https://localhost:8080/"
        },
        "id": "k6pULvHLnvRa",
        "outputId": "5f83b0f2-5013-4522-d310-16382e8c61d5"
      },
      "source": [
        "map(lambda x,y: x+y, lista_a, lista_b)"
      ],
      "execution_count": null,
      "outputs": [
        {
          "output_type": "execute_result",
          "data": {
            "text/plain": [
              "<map at 0x7fafc3c90190>"
            ]
          },
          "metadata": {},
          "execution_count": 31
        }
      ]
    },
    {
      "cell_type": "code",
      "metadata": {
        "colab": {
          "base_uri": "https://localhost:8080/"
        },
        "id": "TOPsICoCn-eQ",
        "outputId": "dff6181b-5337-440f-84ed-b57d3e8cba14"
      },
      "source": [
        "list(map(lambda x,y: x+y, lista_a, lista_b))"
      ],
      "execution_count": null,
      "outputs": [
        {
          "output_type": "execute_result",
          "data": {
            "text/plain": [
              "[11, 22, 33]"
            ]
          },
          "metadata": {},
          "execution_count": 32
        }
      ]
    },
    {
      "cell_type": "markdown",
      "metadata": {
        "id": "j-_azWSZrXWY"
      },
      "source": [
        "# Función filter()"
      ]
    },
    {
      "cell_type": "code",
      "metadata": {
        "id": "pPyDwm0FoBYw"
      },
      "source": [
        "a = [1,2,3,4,5,6]"
      ],
      "execution_count": null,
      "outputs": []
    },
    {
      "cell_type": "code",
      "metadata": {
        "colab": {
          "base_uri": "https://localhost:8080/"
        },
        "id": "pg76qm87rdWO",
        "outputId": "10eb62db-f00c-44df-b793-72d4e0c6f339"
      },
      "source": [
        "filter(lambda x: x%2==0, a)"
      ],
      "execution_count": null,
      "outputs": [
        {
          "output_type": "execute_result",
          "data": {
            "text/plain": [
              "<filter at 0x7fafc3ca0ed0>"
            ]
          },
          "metadata": {},
          "execution_count": 34
        }
      ]
    },
    {
      "cell_type": "code",
      "metadata": {
        "colab": {
          "base_uri": "https://localhost:8080/"
        },
        "id": "MJ9N0PhorkDg",
        "outputId": "344df7f4-29a4-4d2e-c5d2-8e2b438ad938"
      },
      "source": [
        "list(filter(lambda x: x%2==0, a))"
      ],
      "execution_count": null,
      "outputs": [
        {
          "output_type": "execute_result",
          "data": {
            "text/plain": [
              "[2, 4, 6]"
            ]
          },
          "metadata": {},
          "execution_count": 35
        }
      ]
    },
    {
      "cell_type": "code",
      "metadata": {
        "id": "zThjTJATrm3w"
      },
      "source": [
        ""
      ],
      "execution_count": null,
      "outputs": []
    },
    {
      "cell_type": "markdown",
      "metadata": {
        "id": "kYwPTsb3vRIX"
      },
      "source": [
        "# Condicionales"
      ]
    },
    {
      "cell_type": "markdown",
      "metadata": {
        "id": "c5oz7oJLvULJ"
      },
      "source": [
        "**Condicional if**"
      ]
    },
    {
      "cell_type": "code",
      "metadata": {
        "id": "exXDTAc_vTM_"
      },
      "source": [
        "#Definir una variable con un nombre"
      ],
      "execution_count": null,
      "outputs": []
    },
    {
      "cell_type": "code",
      "metadata": {
        "id": "2yNILQhmvXTf"
      },
      "source": [
        "nombre = 'Frida'"
      ],
      "execution_count": null,
      "outputs": []
    },
    {
      "cell_type": "code",
      "metadata": {
        "colab": {
          "base_uri": "https://localhost:8080/"
        },
        "id": "qJy4lh09vZen",
        "outputId": "c3e8e598-3193-45bf-9baa-dbe2e498e920"
      },
      "source": [
        "print('Introduce un nombre')\n",
        "nombre = input()"
      ],
      "execution_count": null,
      "outputs": [
        {
          "name": "stdout",
          "output_type": "stream",
          "text": [
            "Introduce un nombre\n",
            "Daniel\n"
          ]
        }
      ]
    },
    {
      "cell_type": "code",
      "metadata": {
        "colab": {
          "base_uri": "https://localhost:8080/",
          "height": 36
        },
        "id": "WkVQ6u9VvibP",
        "outputId": "3659fb5b-27a9-4e4f-86d0-e9e2fa5e99ad"
      },
      "source": [
        "nombre"
      ],
      "execution_count": null,
      "outputs": [
        {
          "output_type": "execute_result",
          "data": {
            "application/vnd.google.colaboratory.intrinsic+json": {
              "type": "string"
            },
            "text/plain": [
              "'José Manuel'"
            ]
          },
          "metadata": {},
          "execution_count": 39
        }
      ]
    },
    {
      "cell_type": "code",
      "metadata": {
        "colab": {
          "base_uri": "https://localhost:8080/"
        },
        "id": "FXrQbam8vo8v",
        "outputId": "c7313d93-f846-4ac0-c2f9-a80713164bfa"
      },
      "source": [
        "if nombre == 'Frida':\n",
        "  print('Hola nuevamente '+ nombre)\n",
        "  print('¿Cómo has estado?')\n",
        "  print('¿Cuántos años tienes?')\n",
        "  edad = input()\n"
      ],
      "execution_count": null,
      "outputs": [
        {
          "name": "stdout",
          "output_type": "stream",
          "text": [
            "Hola nuevamente Frida\n",
            "¿Cómo has estado?\n",
            "¿Cuántos años tienes?\n",
            "46549848\n"
          ]
        }
      ]
    },
    {
      "cell_type": "code",
      "metadata": {
        "colab": {
          "base_uri": "https://localhost:8080/",
          "height": 36
        },
        "id": "gRdn2r-lwEmg",
        "outputId": "27cb02ac-d320-47c7-dfb9-3601b72d4376"
      },
      "source": [
        "edad"
      ],
      "execution_count": null,
      "outputs": [
        {
          "output_type": "execute_result",
          "data": {
            "application/vnd.google.colaboratory.intrinsic+json": {
              "type": "string"
            },
            "text/plain": [
              "'46549848'"
            ]
          },
          "metadata": {},
          "execution_count": 44
        }
      ]
    },
    {
      "cell_type": "markdown",
      "metadata": {
        "id": "k51i5Hh1wlEg"
      },
      "source": [
        "**Condicional if/else**"
      ]
    },
    {
      "cell_type": "code",
      "metadata": {
        "colab": {
          "base_uri": "https://localhost:8080/"
        },
        "id": "KYP9QUaxwdLw",
        "outputId": "ace4260a-5494-4c9d-ef31-b9d7b28d4fa9"
      },
      "source": [
        "if nombre == 'Frida':\n",
        "  print('Hola nuevamente '+ nombre)\n",
        "  print('¿Cómo has estado?')\n",
        "  print('¿Cuántos años tienes?')\n",
        "  edad = input()\n",
        "else:\n",
        "  print('Lo sentimos, este acceso está restringido')\n",
        "  print('intenta más tarde')"
      ],
      "execution_count": null,
      "outputs": [
        {
          "output_type": "stream",
          "name": "stdout",
          "text": [
            "Lo sentimos, este acceso está restringido\n"
          ]
        }
      ]
    },
    {
      "cell_type": "markdown",
      "metadata": {
        "id": "JMMncA88zOFf"
      },
      "source": [
        "**Condicional if/elif/else**"
      ]
    },
    {
      "cell_type": "code",
      "metadata": {
        "id": "JCSX8dZvztH3"
      },
      "source": [
        "nombre = 'Luis'"
      ],
      "execution_count": null,
      "outputs": []
    },
    {
      "cell_type": "code",
      "metadata": {
        "colab": {
          "base_uri": "https://localhost:8080/"
        },
        "id": "X0BYa6nszSaG",
        "outputId": "5a5385be-2a82-4de3-f1ac-a2dacd19ddfc"
      },
      "source": [
        "if nombre == 'Frida': #Condicional 1\n",
        "  print('Hola nuevamente '+ nombre)\n",
        "  print('¿Cómo has estado?')\n",
        "  print('¿Cuántos años tienes?')\n",
        "  edad = input()\n",
        "elif nombre == 'Daniel': #Condicional 2\n",
        "  print('Hola '+ nombre)\n",
        "  print('¿Cómo estás?')\n",
        "  estado = input()\n",
        "elif nombre == 'Luis':\n",
        "  print('Bienvenido '+ nombre)\n",
        "else: #Todos los demás casos\n",
        "  print('Lo sentimos, este acceso está restringido')\n",
        "  print('intenta más tarde')"
      ],
      "execution_count": null,
      "outputs": [
        {
          "output_type": "stream",
          "name": "stdout",
          "text": [
            "Bienvenido Luis\n"
          ]
        }
      ]
    },
    {
      "cell_type": "markdown",
      "metadata": {
        "id": "Ddset0ZP1eaW"
      },
      "source": [
        "# Ciclos for"
      ]
    },
    {
      "cell_type": "code",
      "metadata": {
        "id": "pyiShYWI20zc"
      },
      "source": [
        "lista = [1,2,3,4,5,6,7]"
      ],
      "execution_count": null,
      "outputs": []
    },
    {
      "cell_type": "code",
      "metadata": {
        "colab": {
          "base_uri": "https://localhost:8080/"
        },
        "id": "CKfovcr8zxxm",
        "outputId": "033b8eb7-2fb6-48aa-c323-b053d1e81949"
      },
      "source": [
        "for elemento in lista:\n",
        "  print(elemento*2)"
      ],
      "execution_count": null,
      "outputs": [
        {
          "output_type": "stream",
          "name": "stdout",
          "text": [
            "2\n",
            "4\n",
            "6\n",
            "8\n",
            "10\n",
            "12\n",
            "14\n"
          ]
        }
      ]
    },
    {
      "cell_type": "code",
      "metadata": {
        "colab": {
          "base_uri": "https://localhost:8080/"
        },
        "id": "z-gdHXjc2zwW",
        "outputId": "da86c491-c681-4118-d9d8-b81a809e75f6"
      },
      "source": [
        "for n in range(10):\n",
        "  print(n)"
      ],
      "execution_count": null,
      "outputs": [
        {
          "output_type": "stream",
          "name": "stdout",
          "text": [
            "0\n",
            "1\n",
            "2\n",
            "3\n",
            "4\n",
            "5\n",
            "6\n",
            "7\n",
            "8\n",
            "9\n"
          ]
        }
      ]
    },
    {
      "cell_type": "code",
      "metadata": {
        "id": "Aoa4eC2M4QHe"
      },
      "source": [
        "mi_lista = [1,2,3,4,5,6,7,8,9,10]"
      ],
      "execution_count": null,
      "outputs": []
    },
    {
      "cell_type": "code",
      "metadata": {
        "id": "Q6GZiWPv4YJY"
      },
      "source": [
        "filtrado = []\n",
        "restantes = []"
      ],
      "execution_count": null,
      "outputs": []
    },
    {
      "cell_type": "code",
      "metadata": {
        "id": "gz3Amkp04did"
      },
      "source": [
        "for num in mi_lista:\n",
        "  if num %2 ==0:\n",
        "    filtrado.append(num)\n",
        "  else:\n",
        "    restantes.append(num)"
      ],
      "execution_count": null,
      "outputs": []
    },
    {
      "cell_type": "code",
      "metadata": {
        "colab": {
          "base_uri": "https://localhost:8080/"
        },
        "id": "-kiUYnFY45fV",
        "outputId": "e82fae60-8cc8-4b4b-c276-d77593731f3b"
      },
      "source": [
        "filtrado"
      ],
      "execution_count": null,
      "outputs": [
        {
          "output_type": "execute_result",
          "data": {
            "text/plain": [
              "[2, 4, 6, 8, 10]"
            ]
          },
          "metadata": {},
          "execution_count": 64
        }
      ]
    },
    {
      "cell_type": "code",
      "metadata": {
        "colab": {
          "base_uri": "https://localhost:8080/"
        },
        "id": "NuhXIIJy48NV",
        "outputId": "13587dcb-39bb-4edd-ee33-cae70154eff9"
      },
      "source": [
        "restantes"
      ],
      "execution_count": null,
      "outputs": [
        {
          "output_type": "execute_result",
          "data": {
            "text/plain": [
              "[1, 3, 5, 7, 9]"
            ]
          },
          "metadata": {},
          "execution_count": 68
        }
      ]
    },
    {
      "cell_type": "code",
      "metadata": {
        "colab": {
          "base_uri": "https://localhost:8080/"
        },
        "id": "gBX2hZeu5MJ-",
        "outputId": "f9ca7d62-c8b2-42bd-b997-0b2887cab07e"
      },
      "source": [
        "for x in 'Bienvenido':\n",
        "  print(f'Dame una {x}')\n",
        "print('¡Bienveido!')"
      ],
      "execution_count": null,
      "outputs": [
        {
          "output_type": "stream",
          "name": "stdout",
          "text": [
            "Dame una B\n",
            "Dame una i\n",
            "Dame una e\n",
            "Dame una n\n",
            "Dame una v\n",
            "Dame una e\n",
            "Dame una n\n",
            "Dame una i\n",
            "Dame una d\n",
            "Dame una o\n",
            "¡Bienveido!\n"
          ]
        }
      ]
    },
    {
      "cell_type": "code",
      "metadata": {
        "id": "EIGz1hQ35nG9"
      },
      "source": [
        "vocales = ['a','e','i','o','u']"
      ],
      "execution_count": null,
      "outputs": []
    },
    {
      "cell_type": "code",
      "metadata": {
        "colab": {
          "base_uri": "https://localhost:8080/"
        },
        "id": "M_rBcH5h527F",
        "outputId": "4b961eaf-4ef9-424f-b82d-21b7ee9e2e9a"
      },
      "source": [
        "for num in 'Bienvenido':\n",
        "  if num in vocales:\n",
        "    print(f'vocal: {num}')\n",
        "  else:\n",
        "    print(f'consonante: {num}')"
      ],
      "execution_count": null,
      "outputs": [
        {
          "output_type": "stream",
          "name": "stdout",
          "text": [
            "consonante: B\n",
            "vocal: i\n",
            "vocal: e\n",
            "consonante: n\n",
            "consonante: v\n",
            "vocal: e\n",
            "consonante: n\n",
            "vocal: i\n",
            "consonante: d\n",
            "vocal: o\n"
          ]
        }
      ]
    },
    {
      "cell_type": "markdown",
      "metadata": {
        "id": "tPVBmWLU60JS"
      },
      "source": [
        "# Ciclos while"
      ]
    },
    {
      "cell_type": "markdown",
      "metadata": {
        "id": "ytqvwT0Z62-0"
      },
      "source": [
        "Imprime i mientras i sea menor que 10"
      ]
    },
    {
      "cell_type": "code",
      "metadata": {
        "colab": {
          "base_uri": "https://localhost:8080/"
        },
        "id": "TTb2Q2XZ6Lwe",
        "outputId": "584386e8-fbe5-4eb0-c170-69a957c8f0ba"
      },
      "source": [
        "i = 5\n",
        "while i <10:\n",
        "  print(f'Hola {i}')\n",
        "  i += 2"
      ],
      "execution_count": null,
      "outputs": [
        {
          "output_type": "stream",
          "name": "stdout",
          "text": [
            "Hola 5\n",
            "Hola 7\n",
            "Hola 9\n"
          ]
        }
      ]
    },
    {
      "cell_type": "code",
      "metadata": {
        "id": "HEWHreXk7im0"
      },
      "source": [
        ""
      ],
      "execution_count": null,
      "outputs": []
    }
  ]
}