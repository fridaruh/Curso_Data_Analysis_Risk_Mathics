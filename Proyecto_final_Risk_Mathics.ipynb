{
  "nbformat": 4,
  "nbformat_minor": 0,
  "metadata": {
    "colab": {
      "name": "Proyecto final - Risk Mathics",
      "provenance": [],
      "authorship_tag": "ABX9TyPk5lyTeIJUXZrY/fbTuFmW",
      "include_colab_link": true
    },
    "kernelspec": {
      "name": "python3",
      "display_name": "Python 3"
    },
    "language_info": {
      "name": "python"
    }
  },
  "cells": [
    {
      "cell_type": "markdown",
      "metadata": {
        "id": "view-in-github",
        "colab_type": "text"
      },
      "source": [
        "<a href=\"https://colab.research.google.com/github/fridaruh/Curso_Data_Analysis_Risk_Mathics/blob/master/Proyecto_final_Risk_Mathics.ipynb\" target=\"_parent\"><img src=\"https://colab.research.google.com/assets/colab-badge.svg\" alt=\"Open In Colab\"/></a>"
      ]
    },
    {
      "cell_type": "markdown",
      "metadata": {
        "id": "Qclnljus9rLB"
      },
      "source": [
        "# Proyecto Final"
      ]
    },
    {
      "cell_type": "markdown",
      "metadata": {
        "id": "9TQhTDAw_ub5"
      },
      "source": [
        "## Set de datos de Conectividad digital en edad escolar"
      ]
    },
    {
      "cell_type": "markdown",
      "metadata": {
        "id": "1lxyi2k5_zC8"
      },
      "source": [
        "Estos datos son proporcionados por UNICEF y han sido recuperados de Kagle."
      ]
    },
    {
      "cell_type": "markdown",
      "metadata": {
        "id": "DpWS96K3Amel"
      },
      "source": [
        "\n",
        "\n",
        "*   Descarga los datasets de: https://www.kaggle.com/ruchi798/school-age-digital-connectivity\n",
        "*   Importa la librería de pandas y numpy\n",
        "\n",
        "\n"
      ]
    },
    {
      "cell_type": "code",
      "metadata": {
        "id": "fafzo8DL_yck"
      },
      "source": [
        ""
      ],
      "execution_count": null,
      "outputs": []
    },
    {
      "cell_type": "markdown",
      "metadata": {
        "id": "EpPPNg5sKvsD"
      },
      "source": [
        "## Carga y transformación de datos"
      ]
    },
    {
      "cell_type": "markdown",
      "metadata": {
        "id": "aAbQr-CcCCPu"
      },
      "source": [
        "*   Guarda en varios datasets llamados df_x cada uno de las tablas\n"
      ]
    },
    {
      "cell_type": "code",
      "metadata": {
        "id": "8eiEGI5o_tti"
      },
      "source": [
        "df_1.head()"
      ],
      "execution_count": null,
      "outputs": []
    },
    {
      "cell_type": "code",
      "metadata": {
        "id": "hNpEJnr4CbMb"
      },
      "source": [
        ""
      ],
      "execution_count": null,
      "outputs": []
    },
    {
      "cell_type": "code",
      "metadata": {
        "id": "LNLxVwgspklB"
      },
      "source": [
        ""
      ],
      "execution_count": null,
      "outputs": []
    },
    {
      "cell_type": "code",
      "metadata": {
        "id": "rQ9BqxCvCcjR"
      },
      "source": [
        ""
      ],
      "execution_count": null,
      "outputs": []
    },
    {
      "cell_type": "code",
      "metadata": {
        "id": "6-idFtHu9th8"
      },
      "source": [
        ""
      ],
      "execution_count": null,
      "outputs": []
    },
    {
      "cell_type": "markdown",
      "metadata": {
        "id": "Wv57B8AJCkdq"
      },
      "source": [
        "*   A cada tabla agregale una columna que se llame \"Nivel\" y ponles el nombre según corresponda⁉\n",
        "\n",
        "Ejemplo: \n",
        "\n",
        "`df_1['Nivel'] = 'pre-primary'`\n",
        "\n",
        "Nota: Recuerda que todas las tablas tienen que escribirse igual en el nombre de la columna \"Nivel\""
      ]
    },
    {
      "cell_type": "code",
      "metadata": {
        "id": "cinW1mu7CexR"
      },
      "source": [
        ""
      ],
      "execution_count": null,
      "outputs": []
    },
    {
      "cell_type": "code",
      "metadata": {
        "id": "Cpl9WsGhCs_l"
      },
      "source": [
        ""
      ],
      "execution_count": null,
      "outputs": []
    },
    {
      "cell_type": "code",
      "metadata": {
        "id": "kgPvBfo3Cwtt"
      },
      "source": [
        ""
      ],
      "execution_count": null,
      "outputs": []
    },
    {
      "cell_type": "code",
      "metadata": {
        "id": "PTmIQnhACw4V"
      },
      "source": [
        ""
      ],
      "execution_count": null,
      "outputs": []
    },
    {
      "cell_type": "code",
      "metadata": {
        "id": "IQgB2HxOCxED"
      },
      "source": [
        ""
      ],
      "execution_count": null,
      "outputs": []
    },
    {
      "cell_type": "markdown",
      "metadata": {
        "id": "068fnyPNCxP2"
      },
      "source": [
        "- Ejecuta la siguiente función para unir todos los dataframes en uno solo:"
      ]
    },
    {
      "cell_type": "code",
      "metadata": {
        "id": "hTaUkr7yC1rV"
      },
      "source": [
        "df = pd.concat([df_1, df_2, df_3, df_4, df_5])"
      ],
      "execution_count": null,
      "outputs": []
    },
    {
      "cell_type": "markdown",
      "metadata": {
        "id": "Nnbjiz7kGqs2"
      },
      "source": [
        "- Obtén el número de filas y columnas que tiene el dataset resultante"
      ]
    },
    {
      "cell_type": "code",
      "metadata": {
        "id": "tDAVrcWBGwO-"
      },
      "source": [
        ""
      ],
      "execution_count": null,
      "outputs": []
    },
    {
      "cell_type": "markdown",
      "metadata": {
        "id": "IL9b-5qvFeDo"
      },
      "source": [
        "- Carga en una variable llamada df_6 la información ubicada en este repositorio de github: https://raw.githubusercontent.com/fridaruh/Curso_Data_Analysis_Risk_Mathics/master/completion_rate.csv\n",
        "\n",
        "Completion rate: Porcentaje de completación del nivel educativo por país."
      ]
    },
    {
      "cell_type": "code",
      "metadata": {
        "id": "lJBs5ZHfFtV7"
      },
      "source": [
        ""
      ],
      "execution_count": null,
      "outputs": []
    },
    {
      "cell_type": "markdown",
      "metadata": {
        "id": "3y9ymTRvFuoh"
      },
      "source": [
        "- Realiza un left join con la llave de cruce ISO3.\n",
        "\n",
        "Ejemplo: \n",
        "\n",
        "`df = pd.merge(tabla1, tabla2, on='llave')`"
      ]
    },
    {
      "cell_type": "code",
      "metadata": {
        "id": "iZt3DX0PGEZz"
      },
      "source": [
        ""
      ],
      "execution_count": null,
      "outputs": []
    },
    {
      "cell_type": "markdown",
      "metadata": {
        "id": "m5IvZsNeKqbG"
      },
      "source": [
        "## Exploración de datos"
      ]
    },
    {
      "cell_type": "markdown",
      "metadata": {
        "id": "J9uVLXQMG6d8"
      },
      "source": [
        "- Obtén las estadísticas básicas del set de datos resultante **sólo sobre las variables cuantitativas**"
      ]
    },
    {
      "cell_type": "code",
      "metadata": {
        "id": "L2Ibe1TvHEuk"
      },
      "source": [
        "df.describe()"
      ],
      "execution_count": null,
      "outputs": []
    },
    {
      "cell_type": "code",
      "metadata": {
        "id": "n0foZ50DHeSQ"
      },
      "source": [
        "df.head()"
      ],
      "execution_count": null,
      "outputs": []
    },
    {
      "cell_type": "markdown",
      "metadata": {
        "id": "65PC16LsK91_"
      },
      "source": [
        "## Agrupaciones"
      ]
    },
    {
      "cell_type": "markdown",
      "metadata": {
        "id": "L_eJ7XULIQG8"
      },
      "source": [
        "- Genera una agrupación por la columna 'Development Regions' donde muestres el promedio de Wealth_Poorest y Wealth_Richest."
      ]
    },
    {
      "cell_type": "code",
      "metadata": {
        "id": "g3QA9vMpHhXO"
      },
      "source": [
        ""
      ],
      "execution_count": null,
      "outputs": []
    },
    {
      "cell_type": "markdown",
      "metadata": {
        "id": "cEa0RizhJ_HV"
      },
      "source": [
        "Genera una agrupación por la columna 'Development Regions' y sub agrupación 'Level' donde muestres el promedio de Wealth_Poorest y Wealth_Richest."
      ]
    },
    {
      "cell_type": "code",
      "metadata": {
        "id": "aMO_IK6zJ5uT"
      },
      "source": [
        ""
      ],
      "execution_count": null,
      "outputs": []
    },
    {
      "cell_type": "markdown",
      "metadata": {
        "id": "GiC5bwb9LDDG"
      },
      "source": [
        "## Manejo de datos faltantes"
      ]
    },
    {
      "cell_type": "markdown",
      "metadata": {
        "id": "P21i_seKLL_G"
      },
      "source": [
        "Imprime cuántos datos nulos tienes en cada columna"
      ]
    },
    {
      "cell_type": "code",
      "metadata": {
        "id": "CFHstMuaKjIl"
      },
      "source": [
        ""
      ],
      "execution_count": null,
      "outputs": []
    },
    {
      "cell_type": "markdown",
      "metadata": {
        "id": "g3uYVs5QLWN2"
      },
      "source": [
        "- Sustituye el valor 0 en las celdas nulas en las siguientes variables:\n",
        "\n",
        "  - Wealth quintile Richest    \n",
        "  - Wealth_Richest             \n",
        "  - Wealth_Fourth              \n",
        "  - Wealth_Middle              \n",
        "  - Wealth_Second              \n",
        "  - Wealth_Poorest             \n",
        "  - Wealth quintile Poorest    "
      ]
    },
    {
      "cell_type": "code",
      "metadata": {
        "id": "eJ-bMu42Lzf5"
      },
      "source": [
        ""
      ],
      "execution_count": null,
      "outputs": []
    },
    {
      "cell_type": "code",
      "metadata": {
        "id": "8nXeQcAkMFBh"
      },
      "source": [
        ""
      ],
      "execution_count": null,
      "outputs": []
    },
    {
      "cell_type": "code",
      "metadata": {
        "id": "TZFFKJ2SMFMU"
      },
      "source": [
        ""
      ],
      "execution_count": null,
      "outputs": []
    },
    {
      "cell_type": "code",
      "metadata": {
        "id": "WgN3QizjMFWZ"
      },
      "source": [
        ""
      ],
      "execution_count": null,
      "outputs": []
    },
    {
      "cell_type": "code",
      "metadata": {
        "id": "cCwUgUy5MFjh"
      },
      "source": [
        ""
      ],
      "execution_count": null,
      "outputs": []
    },
    {
      "cell_type": "code",
      "metadata": {
        "id": "UW5QP4x5MFwA"
      },
      "source": [
        ""
      ],
      "execution_count": null,
      "outputs": []
    },
    {
      "cell_type": "code",
      "metadata": {
        "id": "dO9Xivg7MF7o"
      },
      "source": [
        ""
      ],
      "execution_count": null,
      "outputs": []
    },
    {
      "cell_type": "markdown",
      "metadata": {
        "id": "KOPCwrEVMGNR"
      },
      "source": [
        "Elimina del dataset las siguientes columnas:  \n",
        "\n",
        "'Countries and areas_x', 'Region_x', 'Sub-region_x'"
      ]
    },
    {
      "cell_type": "code",
      "metadata": {
        "id": "r9N3xxyALHrP"
      },
      "source": [
        ""
      ],
      "execution_count": null,
      "outputs": []
    },
    {
      "cell_type": "markdown",
      "metadata": {
        "id": "SvXYaKvVMSoB"
      },
      "source": [
        "Renombra las columnas 'Countries and areas_y', 'Region_y', 'Sub-region_y', 'Total_y' a que solo aparezca el nombre sin la terminación \"_y\""
      ]
    },
    {
      "cell_type": "code",
      "metadata": {
        "id": "-OmzHXOdLycH"
      },
      "source": [
        ""
      ],
      "execution_count": null,
      "outputs": []
    },
    {
      "cell_type": "markdown",
      "metadata": {
        "id": "-7Ul1jkzMgrK"
      },
      "source": [
        "## Visualización de datos"
      ]
    },
    {
      "cell_type": "markdown",
      "metadata": {
        "id": "vSr5NcQkMlLR"
      },
      "source": [
        "- Importa la librería de seaborn para poder visualizar los datos\n",
        "- Genera una gráfica de Boxplot donde pongas en el eje y \"Total\" y en el eje x Development Regions"
      ]
    },
    {
      "cell_type": "code",
      "metadata": {
        "id": "LS3cSHqGMkl0"
      },
      "source": [
        ""
      ],
      "execution_count": null,
      "outputs": []
    },
    {
      "cell_type": "markdown",
      "metadata": {
        "id": "2ZUnzn3cNFou"
      },
      "source": [
        "- Da una interpretación de este gráfico"
      ]
    },
    {
      "cell_type": "markdown",
      "metadata": {
        "id": "1qA_ChLwNJQ6"
      },
      "source": [
        ""
      ]
    },
    {
      "cell_type": "markdown",
      "metadata": {
        "id": "NjM6dnlbNM9H"
      },
      "source": [
        "- Genera una gráfica de Boxplot donde pongas en el eje y \"Total\" y en el eje x Income Group"
      ]
    },
    {
      "cell_type": "code",
      "metadata": {
        "id": "KywN6zG7NIJI"
      },
      "source": [
        ""
      ],
      "execution_count": null,
      "outputs": []
    },
    {
      "cell_type": "markdown",
      "metadata": {
        "id": "URiR1MaMNVGV"
      },
      "source": [
        "- Da una intepretación de este gráfico"
      ]
    },
    {
      "cell_type": "markdown",
      "metadata": {
        "id": "oXZ-0IilNYK9"
      },
      "source": [
        ""
      ]
    },
    {
      "cell_type": "markdown",
      "metadata": {
        "id": "mas7VfcnNrRS"
      },
      "source": [
        "## Exporta los datos"
      ]
    },
    {
      "cell_type": "markdown",
      "metadata": {
        "id": "XeX0AIJrNuoc"
      },
      "source": [
        "Exporta el tu dataset final \"df\" a un archivo csv, una vez que lo descargues envíalo por mail a i.am@fridaruh.com"
      ]
    },
    {
      "cell_type": "code",
      "metadata": {
        "id": "hEpCkGuLNXVo"
      },
      "source": [
        ""
      ],
      "execution_count": null,
      "outputs": []
    }
  ]
}